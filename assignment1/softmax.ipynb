{
 "cells": [
  {
   "cell_type": "markdown",
   "metadata": {},
   "source": [
    "# Softmax exercise\n",
    "\n",
    "*Complete and hand in this completed worksheet (including its outputs and any supporting code outside of the worksheet) with your assignment submission. For more details see the [assignments page](http://vision.stanford.edu/teaching/cs231n/assignments.html) on the course website.*\n",
    "\n",
    "This exercise is analogous to the SVM exercise. You will:\n",
    "\n",
    "- implement a fully-vectorized **loss function** for the Softmax classifier\n",
    "- implement the fully-vectorized expression for its **analytic gradient**\n",
    "- **check your implementation** with numerical gradient\n",
    "- use a validation set to **tune the learning rate and regularization** strength\n",
    "- **optimize** the loss function with **SGD**\n",
    "- **visualize** the final learned weights\n"
   ]
  },
  {
   "cell_type": "code",
   "execution_count": 1,
   "metadata": {},
   "outputs": [],
   "source": [
    "import random\n",
    "import numpy as np\n",
    "from cs231n.data_utils import load_CIFAR10\n",
    "import matplotlib.pyplot as plt\n",
    "\n",
    "from __future__ import print_function\n",
    "\n",
    "%matplotlib inline\n",
    "plt.rcParams['figure.figsize'] = (10.0, 8.0) # set default size of plots\n",
    "plt.rcParams['image.interpolation'] = 'nearest'\n",
    "plt.rcParams['image.cmap'] = 'gray'\n",
    "\n",
    "# for auto-reloading extenrnal modules\n",
    "# see http://stackoverflow.com/questions/1907993/autoreload-of-modules-in-ipython\n",
    "%load_ext autoreload\n",
    "%autoreload 2"
   ]
  },
  {
   "cell_type": "code",
   "execution_count": 2,
   "metadata": {},
   "outputs": [
    {
     "name": "stdout",
     "output_type": "stream",
     "text": [
      "Train data shape:  (49000, 3073)\n",
      "Train labels shape:  (49000,)\n",
      "Validation data shape:  (1000, 3073)\n",
      "Validation labels shape:  (1000,)\n",
      "Test data shape:  (1000, 3073)\n",
      "Test labels shape:  (1000,)\n",
      "dev data shape:  (500, 3073)\n",
      "dev labels shape:  (500,)\n"
     ]
    }
   ],
   "source": [
    "def get_CIFAR10_data(num_training=49000, num_validation=1000, num_test=1000, num_dev=500):\n",
    "    \"\"\"\n",
    "    Load the CIFAR-10 dataset from disk and perform preprocessing to prepare\n",
    "    it for the linear classifier. These are the same steps as we used for the\n",
    "    SVM, but condensed to a single function.  \n",
    "    \"\"\"\n",
    "    # Load the raw CIFAR-10 data\n",
    "    cifar10_dir = 'cs231n/datasets/cifar-10-batches-py'\n",
    "    \n",
    "    X_train, y_train, X_test, y_test = load_CIFAR10(cifar10_dir)\n",
    "    \n",
    "    # subsample the data\n",
    "    mask = list(range(num_training, num_training + num_validation))\n",
    "    X_val = X_train[mask]\n",
    "    y_val = y_train[mask]\n",
    "    mask = list(range(num_training))\n",
    "    X_train = X_train[mask]\n",
    "    y_train = y_train[mask]\n",
    "    mask = list(range(num_test))\n",
    "    X_test = X_test[mask]\n",
    "    y_test = y_test[mask]\n",
    "    mask = np.random.choice(num_training, num_dev, replace=False)\n",
    "    X_dev = X_train[mask]\n",
    "    y_dev = y_train[mask]\n",
    "    \n",
    "    # Preprocessing: reshape the image data into rows\n",
    "    X_train = np.reshape(X_train, (X_train.shape[0], -1))\n",
    "    X_val = np.reshape(X_val, (X_val.shape[0], -1))\n",
    "    X_test = np.reshape(X_test, (X_test.shape[0], -1))\n",
    "    X_dev = np.reshape(X_dev, (X_dev.shape[0], -1))\n",
    "    \n",
    "    # Normalize the data: subtract the mean image\n",
    "    mean_image = np.mean(X_train, axis = 0)\n",
    "    X_train -= mean_image\n",
    "    X_val -= mean_image\n",
    "    X_test -= mean_image\n",
    "    X_dev -= mean_image\n",
    "    \n",
    "    # add bias dimension and transform into columns\n",
    "    X_train = np.hstack([X_train, np.ones((X_train.shape[0], 1))])\n",
    "    X_val = np.hstack([X_val, np.ones((X_val.shape[0], 1))])\n",
    "    X_test = np.hstack([X_test, np.ones((X_test.shape[0], 1))])\n",
    "    X_dev = np.hstack([X_dev, np.ones((X_dev.shape[0], 1))])\n",
    "    \n",
    "    return X_train, y_train, X_val, y_val, X_test, y_test, X_dev, y_dev\n",
    "\n",
    "\n",
    "# Cleaning up variables to prevent loading data multiple times (which may cause memory issue)\n",
    "try:\n",
    "   del X_train, y_train\n",
    "   del X_test, y_test\n",
    "   print('Clear previously loaded data.')\n",
    "except:\n",
    "   pass\n",
    "\n",
    "# Invoke the above function to get our data.\n",
    "X_train, y_train, X_val, y_val, X_test, y_test, X_dev, y_dev = get_CIFAR10_data()\n",
    "print('Train data shape: ', X_train.shape)\n",
    "print('Train labels shape: ', y_train.shape)\n",
    "print('Validation data shape: ', X_val.shape)\n",
    "print('Validation labels shape: ', y_val.shape)\n",
    "print('Test data shape: ', X_test.shape)\n",
    "print('Test labels shape: ', y_test.shape)\n",
    "print('dev data shape: ', X_dev.shape)\n",
    "print('dev labels shape: ', y_dev.shape)"
   ]
  },
  {
   "cell_type": "markdown",
   "metadata": {},
   "source": [
    "## Softmax Classifier\n",
    "\n",
    "Your code for this section will all be written inside **cs231n/classifiers/softmax.py**. \n"
   ]
  },
  {
   "cell_type": "code",
   "execution_count": null,
   "metadata": {},
   "outputs": [],
   "source": [
    "np.log"
   ]
  },
  {
   "cell_type": "code",
   "execution_count": 9,
   "metadata": {},
   "outputs": [
    {
     "data": {
      "text/plain": [
       "-2.3025850929940455"
      ]
     },
     "execution_count": 9,
     "metadata": {},
     "output_type": "execute_result"
    }
   ],
   "source": [
    "np.log(0.1)"
   ]
  },
  {
   "cell_type": "code",
   "execution_count": 64,
   "metadata": {},
   "outputs": [
    {
     "name": "stdout",
     "output_type": "stream",
     "text": [
      "loss: 2.404056\n",
      "sanity check: 2.302585\n"
     ]
    }
   ],
   "source": [
    "# First implement the naive softmax loss function with nested loops.\n",
    "# Open the file cs231n/classifiers/softmax.py and implement the\n",
    "# softmax_loss_naive function.\n",
    "\n",
    "from cs231n.classifiers.softmax import softmax_loss_naive,softmax_loss_vectorized\n",
    "import time\n",
    "\n",
    "# Generate a random softmax weight matrix and use it to compute the loss.\n",
    "W = np.random.randn(3073, 10) * 0.0001\n",
    "loss, grad = softmax_loss_naive(W, X_dev, y_dev, 0.0)\n",
    "\n",
    "# As a rough sanity check, our loss should be something close to -log(0.1).\n",
    "print('loss: %f' % loss)\n",
    "print('sanity check: %f' % (-np.log(0.1)))"
   ]
  },
  {
   "cell_type": "code",
   "execution_count": 69,
   "metadata": {},
   "outputs": [
    {
     "data": {
      "text/plain": [
       "(2.40405554917305,\n",
       " array([[ 0.45021169,  2.02634822, -0.05379599, ...,  0.58012168,\n",
       "         -0.84563525, -0.21066034],\n",
       "        [ 0.47330062,  2.24241182,  0.00979442, ...,  0.67085478,\n",
       "         -0.91045978, -0.2346975 ],\n",
       "        [ 0.51065891,  2.65254305,  0.23360919, ...,  0.92569541,\n",
       "         -0.89697214, -0.2863673 ],\n",
       "        ...,\n",
       "        [-0.56280294,  2.03218711, -0.79713653, ...,  0.16161168,\n",
       "         -0.91994359,  0.00860295],\n",
       "        [-0.77013405,  2.17079722, -0.75594689, ...,  0.18787498,\n",
       "         -0.98800186, -0.10694555],\n",
       "        [ 0.10155939,  0.10684041,  0.09890561, ...,  0.09719402,\n",
       "          0.10000282,  0.09660169]]))"
      ]
     },
     "execution_count": 69,
     "metadata": {},
     "output_type": "execute_result"
    }
   ],
   "source": [
    "softmax_loss_vectorized(W, X_dev, y_dev, 0.0)"
   ]
  },
  {
   "cell_type": "markdown",
   "metadata": {},
   "source": [
    "## Inline Question 1:\n",
    "Why do we expect our loss to be close to -log(0.1)? Explain briefly.**\n",
    "\n",
    "**Your answer:** If we get W=0, then loss will be log(C). As we pick W near 0, then we expect Loss near -log(0.1)\n"
   ]
  },
  {
   "cell_type": "code",
   "execution_count": 70,
   "metadata": {},
   "outputs": [
    {
     "name": "stdout",
     "output_type": "stream",
     "text": [
      "numerical: -1.465403 analytic: -1.465403, relative error: 2.019026e-08\n",
      "numerical: 3.274089 analytic: 3.274089, relative error: 1.133083e-08\n",
      "numerical: 2.217558 analytic: 2.217558, relative error: 1.709565e-08\n",
      "numerical: 0.307193 analytic: 0.307193, relative error: 2.625354e-07\n",
      "numerical: -0.576130 analytic: -0.576130, relative error: 7.461680e-08\n",
      "numerical: 2.034367 analytic: 2.034367, relative error: 1.421226e-08\n",
      "numerical: -1.171574 analytic: -1.171574, relative error: 1.566217e-09\n",
      "numerical: -0.811486 analytic: -0.811486, relative error: 1.007816e-09\n",
      "numerical: -0.434491 analytic: -0.434491, relative error: 5.473159e-08\n",
      "numerical: -1.671987 analytic: -1.671987, relative error: 1.176535e-08\n",
      "numerical: 5.403104 analytic: 5.403104, relative error: 1.383314e-08\n",
      "numerical: 2.169558 analytic: 2.169558, relative error: 2.870417e-08\n",
      "numerical: 1.811801 analytic: 1.811801, relative error: 2.952663e-08\n",
      "numerical: -2.936232 analytic: -2.936232, relative error: 1.215141e-08\n",
      "numerical: -3.749548 analytic: -3.749548, relative error: 1.263692e-09\n",
      "numerical: -3.989523 analytic: -3.989523, relative error: 4.281012e-09\n",
      "numerical: 0.297748 analytic: 0.297748, relative error: 5.950308e-08\n",
      "numerical: 2.240474 analytic: 2.240474, relative error: 3.666167e-08\n",
      "numerical: 2.542932 analytic: 2.542932, relative error: 2.698023e-08\n",
      "numerical: 2.643307 analytic: 2.643307, relative error: 2.163413e-08\n"
     ]
    }
   ],
   "source": [
    "# Complete the implementation of softmax_loss_naive and implement a (naive)\n",
    "# version of the gradient that uses nested loops.\n",
    "loss, grad = softmax_loss_naive(W, X_dev, y_dev, 0.0)\n",
    "\n",
    "# As we did for the SVM, use numeric gradient checking as a debugging tool.\n",
    "# The numeric gradient should be close to the analytic gradient.\n",
    "from cs231n.gradient_check import grad_check_sparse\n",
    "f = lambda w: softmax_loss_naive(w, X_dev, y_dev, 0.0)[0]\n",
    "grad_numerical = grad_check_sparse(f, W, grad, 10)\n",
    "\n",
    "# similar to SVM case, do another gradient check with regularization\n",
    "loss, grad = softmax_loss_naive(W, X_dev, y_dev, 5e1)\n",
    "f = lambda w: softmax_loss_naive(w, X_dev, y_dev, 5e1)[0]\n",
    "grad_numerical = grad_check_sparse(f, W, grad, 10)"
   ]
  },
  {
   "cell_type": "code",
   "execution_count": 75,
   "metadata": {},
   "outputs": [
    {
     "name": "stdout",
     "output_type": "stream",
     "text": [
      "naive loss: 2.404056e+00 computed in 0.264211s\n",
      "vectorized loss: 2.404056e+00 computed in 0.006711s\n",
      "Loss difference: 0.000000\n",
      "Gradient difference: 0.000000\n"
     ]
    }
   ],
   "source": [
    "# Now that we have a naive implementation of the softmax loss function and its gradient,\n",
    "# implement a vectorized version in softmax_loss_vectorized.\n",
    "# The two versions should compute the same results, but the vectorized version should be\n",
    "# much faster.\n",
    "tic = time.time()\n",
    "loss_naive, grad_naive = softmax_loss_naive(W, X_dev, y_dev, 0.000005)\n",
    "toc = time.time()\n",
    "print('naive loss: %e computed in %fs' % (loss_naive, toc - tic))\n",
    "\n",
    "from cs231n.classifiers.softmax import softmax_loss_vectorized\n",
    "tic = time.time()\n",
    "loss_vectorized, grad_vectorized = softmax_loss_vectorized(W, X_dev, y_dev, 0.000005)\n",
    "toc = time.time()\n",
    "print('vectorized loss: %e computed in %fs' % (loss_vectorized, toc - tic))\n",
    "\n",
    "# As we did for the SVM, we use the Frobenius norm to compare the two versions\n",
    "# of the gradient.\n",
    "grad_difference = np.linalg.norm(grad_naive - grad_vectorized, ord='fro')\n",
    "print('Loss difference: %f' % np.abs(loss_naive - loss_vectorized))\n",
    "print('Gradient difference: %f' % grad_difference)"
   ]
  },
  {
   "cell_type": "code",
   "execution_count": null,
   "metadata": {},
   "outputs": [],
   "source": []
  },
  {
   "cell_type": "code",
   "execution_count": 98,
   "metadata": {},
   "outputs": [
    {
     "name": "stdout",
     "output_type": "stream",
     "text": [
      "lr 2.782222e-06 reg 1.500000e+03 train accuracy: 0.370102 val accuracy: 0.375000\n",
      "lr 2.782222e-06 reg 6.888889e+03 train accuracy: 0.348959 val accuracy: 0.365000\n",
      "lr 2.782222e-06 reg 1.227778e+04 train accuracy: 0.323980 val accuracy: 0.333000\n",
      "lr 2.782222e-06 reg 1.766667e+04 train accuracy: 0.309612 val accuracy: 0.325000\n",
      "lr 2.782222e-06 reg 2.305556e+04 train accuracy: 0.288469 val accuracy: 0.288000\n",
      "lr 2.782222e-06 reg 2.844444e+04 train accuracy: 0.263041 val accuracy: 0.291000\n",
      "lr 2.782222e-06 reg 3.383333e+04 train accuracy: 0.295306 val accuracy: 0.308000\n",
      "lr 2.782222e-06 reg 3.922222e+04 train accuracy: 0.287653 val accuracy: 0.306000\n",
      "lr 2.782222e-06 reg 4.461111e+04 train accuracy: 0.300776 val accuracy: 0.300000\n",
      "lr 2.782222e-06 reg 5.000000e+04 train accuracy: 0.264449 val accuracy: 0.285000\n",
      "lr 3.028642e-06 reg 1.500000e+03 train accuracy: 0.382245 val accuracy: 0.373000\n",
      "lr 3.028642e-06 reg 6.888889e+03 train accuracy: 0.351429 val accuracy: 0.341000\n",
      "lr 3.028642e-06 reg 1.227778e+04 train accuracy: 0.334490 val accuracy: 0.344000\n",
      "lr 3.028642e-06 reg 1.766667e+04 train accuracy: 0.308898 val accuracy: 0.333000\n",
      "lr 3.028642e-06 reg 2.305556e+04 train accuracy: 0.306531 val accuracy: 0.314000\n",
      "lr 3.028642e-06 reg 2.844444e+04 train accuracy: 0.284939 val accuracy: 0.281000\n",
      "lr 3.028642e-06 reg 3.383333e+04 train accuracy: 0.294490 val accuracy: 0.306000\n",
      "lr 3.028642e-06 reg 3.922222e+04 train accuracy: 0.234388 val accuracy: 0.223000\n",
      "lr 3.028642e-06 reg 4.461111e+04 train accuracy: 0.263449 val accuracy: 0.268000\n",
      "lr 3.028642e-06 reg 5.000000e+04 train accuracy: 0.275306 val accuracy: 0.269000\n",
      "lr 3.275062e-06 reg 1.500000e+03 train accuracy: 0.368041 val accuracy: 0.371000\n",
      "lr 3.275062e-06 reg 6.888889e+03 train accuracy: 0.313184 val accuracy: 0.312000\n",
      "lr 3.275062e-06 reg 1.227778e+04 train accuracy: 0.316327 val accuracy: 0.319000\n",
      "lr 3.275062e-06 reg 1.766667e+04 train accuracy: 0.288939 val accuracy: 0.294000\n",
      "lr 3.275062e-06 reg 2.305556e+04 train accuracy: 0.283755 val accuracy: 0.305000\n",
      "lr 3.275062e-06 reg 2.844444e+04 train accuracy: 0.291041 val accuracy: 0.292000\n",
      "lr 3.275062e-06 reg 3.383333e+04 train accuracy: 0.295531 val accuracy: 0.302000\n",
      "lr 3.275062e-06 reg 3.922222e+04 train accuracy: 0.267776 val accuracy: 0.285000\n",
      "lr 3.275062e-06 reg 4.461111e+04 train accuracy: 0.265265 val accuracy: 0.264000\n",
      "lr 3.275062e-06 reg 5.000000e+04 train accuracy: 0.253245 val accuracy: 0.255000\n",
      "lr 3.521481e-06 reg 1.500000e+03 train accuracy: 0.362959 val accuracy: 0.368000\n",
      "lr 3.521481e-06 reg 6.888889e+03 train accuracy: 0.329306 val accuracy: 0.340000\n",
      "lr 3.521481e-06 reg 1.227778e+04 train accuracy: 0.303816 val accuracy: 0.311000\n",
      "lr 3.521481e-06 reg 1.766667e+04 train accuracy: 0.270449 val accuracy: 0.284000\n",
      "lr 3.521481e-06 reg 2.305556e+04 train accuracy: 0.275204 val accuracy: 0.281000\n",
      "lr 3.521481e-06 reg 2.844444e+04 train accuracy: 0.276694 val accuracy: 0.287000\n",
      "lr 3.521481e-06 reg 3.383333e+04 train accuracy: 0.287959 val accuracy: 0.313000\n",
      "lr 3.521481e-06 reg 3.922222e+04 train accuracy: 0.274286 val accuracy: 0.279000\n",
      "lr 3.521481e-06 reg 4.461111e+04 train accuracy: 0.258469 val accuracy: 0.277000\n",
      "lr 3.521481e-06 reg 5.000000e+04 train accuracy: 0.233918 val accuracy: 0.250000\n",
      "lr 3.767901e-06 reg 1.500000e+03 train accuracy: 0.358918 val accuracy: 0.345000\n",
      "lr 3.767901e-06 reg 6.888889e+03 train accuracy: 0.301388 val accuracy: 0.310000\n",
      "lr 3.767901e-06 reg 1.227778e+04 train accuracy: 0.302388 val accuracy: 0.314000\n",
      "lr 3.767901e-06 reg 1.766667e+04 train accuracy: 0.285327 val accuracy: 0.304000\n",
      "lr 3.767901e-06 reg 2.305556e+04 train accuracy: 0.299510 val accuracy: 0.311000\n",
      "lr 3.767901e-06 reg 2.844444e+04 train accuracy: 0.292367 val accuracy: 0.295000\n",
      "lr 3.767901e-06 reg 3.383333e+04 train accuracy: 0.250857 val accuracy: 0.261000\n",
      "lr 3.767901e-06 reg 3.922222e+04 train accuracy: 0.250408 val accuracy: 0.260000\n",
      "lr 3.767901e-06 reg 4.461111e+04 train accuracy: 0.263633 val accuracy: 0.245000\n",
      "lr 3.767901e-06 reg 5.000000e+04 train accuracy: 0.256143 val accuracy: 0.271000\n",
      "lr 4.014321e-06 reg 1.500000e+03 train accuracy: 0.362592 val accuracy: 0.376000\n",
      "lr 4.014321e-06 reg 6.888889e+03 train accuracy: 0.310327 val accuracy: 0.312000\n",
      "lr 4.014321e-06 reg 1.227778e+04 train accuracy: 0.289694 val accuracy: 0.308000\n",
      "lr 4.014321e-06 reg 1.766667e+04 train accuracy: 0.307735 val accuracy: 0.318000\n",
      "lr 4.014321e-06 reg 2.305556e+04 train accuracy: 0.301837 val accuracy: 0.307000\n",
      "lr 4.014321e-06 reg 2.844444e+04 train accuracy: 0.232612 val accuracy: 0.246000\n",
      "lr 4.014321e-06 reg 3.383333e+04 train accuracy: 0.265102 val accuracy: 0.271000\n",
      "lr 4.014321e-06 reg 3.922222e+04 train accuracy: 0.257347 val accuracy: 0.261000\n",
      "lr 4.014321e-06 reg 4.461111e+04 train accuracy: 0.207306 val accuracy: 0.210000\n",
      "lr 4.014321e-06 reg 5.000000e+04 train accuracy: 0.245531 val accuracy: 0.252000\n",
      "lr 4.260741e-06 reg 1.500000e+03 train accuracy: 0.342673 val accuracy: 0.348000\n",
      "lr 4.260741e-06 reg 6.888889e+03 train accuracy: 0.342714 val accuracy: 0.357000\n",
      "lr 4.260741e-06 reg 1.227778e+04 train accuracy: 0.277347 val accuracy: 0.286000\n",
      "lr 4.260741e-06 reg 1.766667e+04 train accuracy: 0.270408 val accuracy: 0.269000\n",
      "lr 4.260741e-06 reg 2.305556e+04 train accuracy: 0.252776 val accuracy: 0.256000\n",
      "lr 4.260741e-06 reg 2.844444e+04 train accuracy: 0.241531 val accuracy: 0.264000\n",
      "lr 4.260741e-06 reg 3.383333e+04 train accuracy: 0.240776 val accuracy: 0.247000\n",
      "lr 4.260741e-06 reg 3.922222e+04 train accuracy: 0.195592 val accuracy: 0.206000\n",
      "lr 4.260741e-06 reg 4.461111e+04 train accuracy: 0.237714 val accuracy: 0.228000\n",
      "lr 4.260741e-06 reg 5.000000e+04 train accuracy: 0.209939 val accuracy: 0.221000\n",
      "lr 4.507160e-06 reg 1.500000e+03 train accuracy: 0.340367 val accuracy: 0.343000\n",
      "lr 4.507160e-06 reg 6.888889e+03 train accuracy: 0.329612 val accuracy: 0.334000\n",
      "lr 4.507160e-06 reg 1.227778e+04 train accuracy: 0.267857 val accuracy: 0.255000\n",
      "lr 4.507160e-06 reg 1.766667e+04 train accuracy: 0.218184 val accuracy: 0.226000\n",
      "lr 4.507160e-06 reg 2.305556e+04 train accuracy: 0.253041 val accuracy: 0.275000\n",
      "lr 4.507160e-06 reg 2.844444e+04 train accuracy: 0.205531 val accuracy: 0.217000\n",
      "lr 4.507160e-06 reg 3.383333e+04 train accuracy: 0.215510 val accuracy: 0.210000\n",
      "lr 4.507160e-06 reg 3.922222e+04 train accuracy: 0.211143 val accuracy: 0.211000\n",
      "lr 4.507160e-06 reg 4.461111e+04 train accuracy: 0.226571 val accuracy: 0.232000\n",
      "lr 4.507160e-06 reg 5.000000e+04 train accuracy: 0.190510 val accuracy: 0.197000\n",
      "lr 4.753580e-06 reg 1.500000e+03 train accuracy: 0.325694 val accuracy: 0.333000\n",
      "lr 4.753580e-06 reg 6.888889e+03 train accuracy: 0.262735 val accuracy: 0.284000\n",
      "lr 4.753580e-06 reg 1.227778e+04 train accuracy: 0.282020 val accuracy: 0.296000\n",
      "lr 4.753580e-06 reg 1.766667e+04 train accuracy: 0.245265 val accuracy: 0.261000\n",
      "lr 4.753580e-06 reg 2.305556e+04 train accuracy: 0.258347 val accuracy: 0.262000\n",
      "lr 4.753580e-06 reg 2.844444e+04 train accuracy: 0.188286 val accuracy: 0.191000\n",
      "lr 4.753580e-06 reg 3.383333e+04 train accuracy: 0.171122 val accuracy: 0.172000\n",
      "lr 4.753580e-06 reg 3.922222e+04 train accuracy: 0.191510 val accuracy: 0.194000\n",
      "lr 4.753580e-06 reg 4.461111e+04 train accuracy: 0.193571 val accuracy: 0.199000\n",
      "lr 4.753580e-06 reg 5.000000e+04 train accuracy: 0.165388 val accuracy: 0.151000\n",
      "lr 5.000000e-06 reg 1.500000e+03 train accuracy: 0.342327 val accuracy: 0.334000\n",
      "lr 5.000000e-06 reg 6.888889e+03 train accuracy: 0.266490 val accuracy: 0.303000\n",
      "lr 5.000000e-06 reg 1.227778e+04 train accuracy: 0.260224 val accuracy: 0.264000\n",
      "lr 5.000000e-06 reg 1.766667e+04 train accuracy: 0.234551 val accuracy: 0.249000\n",
      "lr 5.000000e-06 reg 2.305556e+04 train accuracy: 0.204714 val accuracy: 0.235000\n",
      "lr 5.000000e-06 reg 2.844444e+04 train accuracy: 0.170837 val accuracy: 0.181000\n",
      "lr 5.000000e-06 reg 3.383333e+04 train accuracy: 0.134837 val accuracy: 0.132000\n",
      "lr 5.000000e-06 reg 3.922222e+04 train accuracy: 0.176571 val accuracy: 0.189000\n",
      "lr 5.000000e-06 reg 4.461111e+04 train accuracy: 0.172776 val accuracy: 0.166000\n",
      "lr 5.000000e-06 reg 5.000000e+04 train accuracy: 0.196408 val accuracy: 0.190000\n",
      "best validation accuracy achieved during cross-validation: 0.376000\n"
     ]
    }
   ],
   "source": [
    "# Use the validation set to tune hyperparameters (regularization strength and\n",
    "# learning rate). You should experiment with different ranges for the learning\n",
    "# rates and regularization strengths; if you are careful you should be able to\n",
    "# get a classification accuracy of over 0.35 on the validation set.\n",
    "from cs231n.classifiers import Softmax\n",
    "from itertools import product\n",
    "results = {}\n",
    "best_val = -1\n",
    "best_softmax = None\n",
    "learning_rates = np.linspace(2.7822222222222226e-06, 5e-6,10)\n",
    "regularization_strengths = np.linspace(1.5e3, 5e4,10)\n",
    "for l,r in product(learning_rates,regularization_strengths):\n",
    "    soft = Softmax()\n",
    "    soft.train(X_train,y_train,learning_rate=l,reg=r,num_iters=300)\n",
    "    validation_accuracy = np.mean(y_val == soft.predict(X_val))\n",
    "    training_accuracy = np.mean(y_train == soft.predict(X_train))\n",
    "    results[(l,r)] = (training_accuracy,validation_accuracy)\n",
    "    if validation_accuracy > best_val:\n",
    "        best_val = validation_accuracy\n",
    "        best_softmax = soft\n",
    "################################################################################\n",
    "# TODO:                                                                        #\n",
    "# Use the validation set to set the learning rate and regularization strength. #\n",
    "# This should be identical to the validation that you did for the SVM; save    #\n",
    "# the best trained softmax classifer in best_softmax.                          #\n",
    "################################################################################\n",
    "# Your code\n",
    "################################################################################\n",
    "#                              END OF YOUR CODE                                #\n",
    "################################################################################\n",
    "    \n",
    "# Print out results.\n",
    "for lr, reg in sorted(results):\n",
    "    train_accuracy, val_accuracy = results[(lr, reg)]\n",
    "    print('lr %e reg %e train accuracy: %f val accuracy: %f' % (\n",
    "                lr, reg, train_accuracy, val_accuracy))\n",
    "    \n",
    "print('best validation accuracy achieved during cross-validation: %f' % best_val)"
   ]
  },
  {
   "cell_type": "code",
   "execution_count": 99,
   "metadata": {},
   "outputs": [
    {
     "name": "stdout",
     "output_type": "stream",
     "text": [
      "softmax on raw pixels final test set accuracy: 0.361000\n"
     ]
    }
   ],
   "source": [
    "# evaluate on test set\n",
    "# Evaluate the best softmax on test set\n",
    "y_test_pred = best_softmax.predict(X_test)\n",
    "test_accuracy = np.mean(y_test == y_test_pred)\n",
    "print('softmax on raw pixels final test set accuracy: %f' % (test_accuracy, ))"
   ]
  },
  {
   "cell_type": "markdown",
   "metadata": {},
   "source": [
    "**Inline Question** - *True or False*\n",
    "\n",
    "It's possible to add a new datapoint to a training set that would leave the SVM loss unchanged, but this is not the case with the Softmax classifier loss.\n",
    "\n",
    "*Your answer*:True\n",
    "\n",
    "*Your explanation*: For SVM if we chose W=0 and delta = 0, any additional point will not change loss. For Softmax if we want to save loss as it was we need to pick datapoint which give us infinite number score for target class and -infinite for all other."
   ]
  },
  {
   "cell_type": "code",
   "execution_count": 100,
   "metadata": {},
   "outputs": [
    {
     "data": {
      "image/png": "[encoded data removed]",
      "text/plain": [
       "<Figure size 432x288 with 10 Axes>"
      ]
     },
     "metadata": {},
     "output_type": "display_data"
    }
   ],
   "source": [
    "# Visualize the learned weights for each class\n",
    "w = best_softmax.W[:-1,:] # strip out the bias\n",
    "w = w.reshape(32, 32, 3, 10)\n",
    "\n",
    "w_min, w_max = np.min(w), np.max(w)\n",
    "\n",
    "classes = ['plane', 'car', 'bird', 'cat', 'deer', 'dog', 'frog', 'horse', 'ship', 'truck']\n",
    "for i in range(10):\n",
    "    plt.subplot(2, 5, i + 1)\n",
    "    \n",
    "    # Rescale the weights to be between 0 and 255\n",
    "    wimg = 255.0 * (w[:, :, :, i].squeeze() - w_min) / (w_max - w_min)\n",
    "    plt.imshow(wimg.astype('uint8'))\n",
    "    plt.axis('off')\n",
    "    plt.title(classes[i])"
   ]
  },
  {
   "cell_type": "code",
   "execution_count": null,
   "metadata": {},
   "outputs": [],
   "source": []
  }
 ],
 "metadata": {
  "kernelspec": {
   "display_name": "Python 3",
   "language": "python",
   "name": "python3"
  },
  "language_info": {
   "codemirror_mode": {
    "name": "ipython",
    "version": 3
   },
   "file_extension": ".py",
   "mimetype": "text/x-python",
   "name": "python",
   "nbconvert_exporter": "python",
   "pygments_lexer": "ipython3",
   "version": "3.6.3"
  }
 },
 "nbformat": 4,
 "nbformat_minor": 1
}
